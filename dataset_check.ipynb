{
 "cells": [
  {
   "cell_type": "code",
   "execution_count": null,
   "id": "0dea7ed8",
   "metadata": {},
   "outputs": [],
   "source": []
  },
  {
   "cell_type": "code",
   "execution_count": null,
   "id": "71ee95ea",
   "metadata": {},
   "outputs": [],
   "source": []
  },
  {
   "cell_type": "markdown",
   "id": "1ac7926e",
   "metadata": {},
   "source": [
    "#### Here is a Python script that checks all bounding boxes in your JSON file.\n",
    "\n",
    "If any box has x2 <= x1 or y2 <= y1, it swaps the coordinates to make them valid.\n",
    "It writes the corrected records to a new JSON file (annotations_coco_like_fixed.json).\n",
    "If a box is already valid, it leaves it unchanged."
   ]
  },
  {
   "cell_type": "code",
   "execution_count": 1,
   "id": "f93d7d67",
   "metadata": {},
   "outputs": [
    {
     "name": "stdout",
     "output_type": "stream",
     "text": [
      "Done. Fixed boxes written to annotations_coco_like_fixed.json\n"
     ]
    }
   ],
   "source": [
    "import json\n",
    "\n",
    "# Load your original annotation file\n",
    "with open(\"annotations_coco_like.json\", \"r\") as f:\n",
    "    data = json.load(f)\n",
    "\n",
    "def fix_box(box):\n",
    "    x1, y1, x2, y2 = box\n",
    "    # If x2 <= x1, swap\n",
    "    if x2 <= x1:\n",
    "        x1, x2 = min(x1, x2), max(x1, x2)\n",
    "    # If y2 <= y1, swap\n",
    "    if y2 <= y1:\n",
    "        y1, y2 = min(y1, y2), max(y1, y2)\n",
    "    return [x1, y1, x2, y2]\n",
    "\n",
    "fixed_data = []\n",
    "for rec in data:\n",
    "    if \"boxes\" in rec and rec[\"boxes\"]:\n",
    "        new_boxes = []\n",
    "        for box in rec[\"boxes\"]:\n",
    "            # Only fix if box has 4 coordinates\n",
    "            if len(box) == 4:\n",
    "                new_box = fix_box(box)\n",
    "                new_boxes.append(new_box)\n",
    "            else:\n",
    "                new_boxes.append(box)\n",
    "        rec[\"boxes\"] = new_boxes\n",
    "    fixed_data.append(rec)\n",
    "\n",
    "# Save to new JSON file\n",
    "with open(\"annotations_coco_like_fixed.json\", \"w\") as f:\n",
    "    json.dump(fixed_data, f, indent=2)\n",
    "\n",
    "print(\"Done. Fixed boxes written to annotations_coco_like_fixed.json\")"
   ]
  }
 ],
 "metadata": {
  "kernelspec": {
   "display_name": "yolov11_env",
   "language": "python",
   "name": "python3"
  },
  "language_info": {
   "codemirror_mode": {
    "name": "ipython",
    "version": 3
   },
   "file_extension": ".py",
   "mimetype": "text/x-python",
   "name": "python",
   "nbconvert_exporter": "python",
   "pygments_lexer": "ipython3",
   "version": "3.11.13"
  }
 },
 "nbformat": 4,
 "nbformat_minor": 5
}
